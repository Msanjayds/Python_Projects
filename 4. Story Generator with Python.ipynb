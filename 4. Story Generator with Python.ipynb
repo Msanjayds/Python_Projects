{
 "cells": [
  {
   "cell_type": "markdown",
   "metadata": {},
   "source": [
    "# Story Generator with Python\n",
    "### Task is to generate a random story every time the user runs the program. "
   ]
  },
  {
   "cell_type": "code",
   "execution_count": 15,
   "metadata": {},
   "outputs": [
    {
     "name": "stdout",
     "output_type": "stream",
     "text": [
      "Yesterday,a cult who lived in India went to the seminar and found a key\n"
     ]
    }
   ],
   "source": [
    "import random\n",
    "\n",
    "when = ['A few years ago', 'Yesterday', 'Last Night', 'A long time ago', 'on 8th May']\n",
    "\n",
    "who = ['a rabbit', 'a cult', 'a genius', 'a turtle', 'a cat']\n",
    "\n",
    "name = ['ali','sam','daniel','Hourk', 'Starwalker', 'Danny']\n",
    "\n",
    "residence = ['Bangalore','Dubai','Abudhabi','US','India']\n",
    "\n",
    "went = ['school','market','laundry','seminar']\n",
    "\n",
    "happened = ['made a lot of friends', 'eats a burger', 'wrote a book','found a key', 'won a prize' ]\n",
    "\n",
    "print(random.choice(when) + ',' + random.choice(who) + ' who lived in ' + random.choice(residence) + ' went to the ' + random.choice(went) + ' and ' + random.choice(happened))\n"
   ]
  }
 ],
 "metadata": {
  "kernelspec": {
   "display_name": "Python 3.9.7 ('base')",
   "language": "python",
   "name": "python3"
  },
  "language_info": {
   "codemirror_mode": {
    "name": "ipython",
    "version": 3
   },
   "file_extension": ".py",
   "mimetype": "text/x-python",
   "name": "python",
   "nbconvert_exporter": "python",
   "pygments_lexer": "ipython3",
   "version": "3.9.7"
  },
  "orig_nbformat": 4,
  "vscode": {
   "interpreter": {
    "hash": "ad2bdc8ecc057115af97d19610ffacc2b4e99fae6737bb82f5d7fb13d2f2c186"
   }
  }
 },
 "nbformat": 4,
 "nbformat_minor": 2
}
