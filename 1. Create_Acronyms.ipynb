{
 "cells": [
  {
   "cell_type": "markdown",
   "metadata": {},
   "source": [
    "##Create Acronym Using Python"
   ]
  },
  {
   "cell_type": "code",
   "execution_count": 36,
   "metadata": {},
   "outputs": [
    {
     "name": "stdout",
     "output_type": "stream",
     "text": [
      "splited Text =  ['machine', 'learning']\n",
      "\n",
      " Created Acronym for machine learning is ML\n"
     ]
    }
   ],
   "source": [
    "text = 'machine learning'\n",
    "\n",
    "text_split = text.split() #split function converts the string to a list\n",
    "\n",
    "print(\"splited Text = \", text_split)\n",
    "\n",
    "acronym = \"\"\n",
    "\n",
    "for i in text_split:\n",
    "    acronym = acronym + str(i[0]).upper()\n",
    "    \n",
    "\n",
    "print(f'\\n Created Acronym for {text} is {acronym}')"
   ]
  },
  {
   "cell_type": "code",
   "execution_count": null,
   "metadata": {},
   "outputs": [],
   "source": []
  }
 ],
 "metadata": {
  "kernelspec": {
   "display_name": "Python 3.9.7 ('base')",
   "language": "python",
   "name": "python3"
  },
  "language_info": {
   "codemirror_mode": {
    "name": "ipython",
    "version": 3
   },
   "file_extension": ".py",
   "mimetype": "text/x-python",
   "name": "python",
   "nbconvert_exporter": "python",
   "pygments_lexer": "ipython3",
   "version": "3.9.7"
  },
  "orig_nbformat": 4,
  "vscode": {
   "interpreter": {
    "hash": "ad2bdc8ecc057115af97d19610ffacc2b4e99fae6737bb82f5d7fb13d2f2c186"
   }
  }
 },
 "nbformat": 4,
 "nbformat_minor": 2
}
