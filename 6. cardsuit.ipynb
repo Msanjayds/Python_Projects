{
 "cells": [
  {
   "cell_type": "code",
   "execution_count": 22,
   "metadata": {},
   "outputs": [],
   "source": [
    "class Card(object):\n",
    "   \n",
    "    suits = {'d':'Diamonds', 'h':'Hearts'}\n",
    "   \n",
    "\n",
    "    def __init__(self,value,suit):\n",
    "        self.value = value\n",
    "        self.suit = suit\n",
    "    \n",
    "    def get_value(self):\n",
    "        return self.value\n",
    "\n",
    "    def get_suit(self):\n",
    "        return self.suit        \n",
    "    \n",
    "    def __str__(self):\n",
    "        return(str(self.value) + ' of ' + Card.suits[str(self.suit)])\n",
    "        # return suits['d']\n",
    "    \n"
   ]
  },
  {
   "cell_type": "code",
   "execution_count": 23,
   "metadata": {},
   "outputs": [
    {
     "name": "stdout",
     "output_type": "stream",
     "text": [
      "10 of Diamonds\n"
     ]
    }
   ],
   "source": [
    "my_card = Card(10,'d')\n",
    "print(my_card)"
   ]
  },
  {
   "cell_type": "code",
   "execution_count": 25,
   "metadata": {},
   "outputs": [
    {
     "name": "stdout",
     "output_type": "stream",
     "text": [
      "sam 5 abc school\n"
     ]
    }
   ],
   "source": [
    "class Student:\n",
    "\n",
    "    school_name = 'abc school'\n",
    "\n",
    "    def __init__(self,name,roll_num):\n",
    "        self.name = name \n",
    "        self.roll_num = roll_num \n",
    "    \n",
    "    def show(self):\n",
    "        print(self.name, self.roll_num,self.school_name)\n",
    "\n",
    "\n",
    "S1 = Student('sam',5)\n",
    "\n",
    "S1.show()\n"
   ]
  },
  {
   "cell_type": "code",
   "execution_count": null,
   "metadata": {},
   "outputs": [],
   "source": []
  }
 ],
 "metadata": {
  "kernelspec": {
   "display_name": "Python 3.9.6 64-bit",
   "language": "python",
   "name": "python3"
  },
  "language_info": {
   "codemirror_mode": {
    "name": "ipython",
    "version": 3
   },
   "file_extension": ".py",
   "mimetype": "text/x-python",
   "name": "python",
   "nbconvert_exporter": "python",
   "pygments_lexer": "ipython3",
   "version": "3.9.6"
  },
  "orig_nbformat": 4,
  "vscode": {
   "interpreter": {
    "hash": "31f2aee4e71d21fbe5cf8b01ff0e069b9275f58929596ceb00d14d90e3e16cd6"
   }
  }
 },
 "nbformat": 4,
 "nbformat_minor": 2
}
